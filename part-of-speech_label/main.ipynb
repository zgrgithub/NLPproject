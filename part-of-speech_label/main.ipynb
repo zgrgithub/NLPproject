{
 "cells": [
  {
   "cell_type": "code",
   "execution_count": 97,
   "metadata": {
    "scrolled": true
   },
   "outputs": [
    {
     "name": "stdout",
     "output_type": "stream",
     "text": [
      "18978\n"
     ]
    }
   ],
   "source": [
    "word2id,id2word = {},{}\n",
    "tag2id,id2tag = {},{}\n",
    "for line in open(\"traindata.txt\"):\n",
    "    pro_line = line.split(\"/\")\n",
    "    word = pro_line[0]\n",
    "    tag = pro_line[1].rstrip()\n",
    "    if word not in word2id:\n",
    "        word2id[word] = len(word2id)\n",
    "        id2word[len(id2word)] = word\n",
    "    if tag not in tag2id:\n",
    "        tag2id[tag] = len(tag2id)\n",
    "        id2tag[len(id2tag)] = tag\n",
    "\n",
    "M = len(word2id) #number of words\n",
    "N = len(tag2id)  #number of tags\n"
   ]
  },
  {
   "cell_type": "code",
   "execution_count": 109,
   "metadata": {},
   "outputs": [],
   "source": [
    "import numpy as np\n",
    "A = np.zeros((N,M))\n",
    "pi = np.zeros(N)\n",
    "B = np.zeros((N,N))\n",
    "pre_tag = \"\"\n",
    "for line in open(\"traindata.txt\"):\n",
    "    items = line.split(\"/\")\n",
    "    wordID = word2id[items[0]]\n",
    "    tagID = tag2id[items[1].rstrip()]\n",
    "    if pre_tag == \"\":\n",
    "        pi[tagID] += 1\n",
    "        A[tagID][wordID] += 1\n",
    "    else:\n",
    "        A[tagID][wordID] += 1\n",
    "        B[tag2id[pre_tag]][tagID] += 1\n",
    "        \n",
    "    if items[0] == \".\":\n",
    "        pre_tag = \"\"\n",
    "    else:\n",
    "        pre_tag = items[1].rstrip()\n",
    "\n",
    "pi = pi/sum(pi)\n",
    "for i in range(N):\n",
    "    A[i] = A[i]/sum(A[i])\n",
    "    B[i] = B[i]/sum(B[i])\n"
   ]
  },
  {
   "cell_type": "code",
   "execution_count": 99,
   "metadata": {},
   "outputs": [],
   "source": [
    "def log(x):\n",
    "    if x == 0:\n",
    "        return np.log(x+0.000001)\n",
    "    return np.log(x)"
   ]
  },
  {
   "cell_type": "code",
   "execution_count": 108,
   "metadata": {
    "scrolled": true
   },
   "outputs": [
    {
     "name": "stdout",
     "output_type": "stream",
     "text": [
      "PRP\n",
      "VBP\n",
      "RB\n"
     ]
    }
   ],
   "source": [
    "def main(x):\n",
    "    sentences = [word2id[word] for word in x.split(\" \")]\n",
    "    sent_len = len(sentences)\n",
    "    \n",
    "    D = np.zeros((sent_len,N))\n",
    "    position = np.array([[0 for x in range(N)] for y in range(sent_len)])\n",
    "    \n",
    "    for p in range(N):\n",
    "        D[0][p] = log(pi[p]) + log(A[p][sentences[0]])\n",
    "        \n",
    "    for i in range(1,sent_len):\n",
    "        for j in range(N):\n",
    "            D[i][j] = -9999999\n",
    "            for k in range(N):\n",
    "                score = D[i-1][k] + log(A[j][sentences[i]]) + log(B[k][j])\n",
    "                if score > D[i][j]:\n",
    "                    D[i][j] = score\n",
    "                    position[i][j] = k\n",
    "    \n",
    "    best_seq = [0]*sent_len\n",
    "    best_seq[sent_len-1] = np.argmax(D[sent_len-1])\n",
    "    \n",
    "    for i in range(sent_len-2,-1,-1):\n",
    "        best_seq[i] = position[i+1][best_seq[i+1]]\n",
    "    \n",
    "    for i in best_seq:\n",
    "        print(id2tag[i])\n",
    "        \n",
    "a = \"I study hard\"\n",
    "main(a)"
   ]
  },
  {
   "cell_type": "code",
   "execution_count": null,
   "metadata": {},
   "outputs": [],
   "source": []
  },
  {
   "cell_type": "code",
   "execution_count": null,
   "metadata": {},
   "outputs": [],
   "source": []
  }
 ],
 "metadata": {
  "kernelspec": {
   "display_name": "Python 3",
   "language": "python",
   "name": "python3"
  },
  "language_info": {
   "codemirror_mode": {
    "name": "ipython",
    "version": 3
   },
   "file_extension": ".py",
   "mimetype": "text/x-python",
   "name": "python",
   "nbconvert_exporter": "python",
   "pygments_lexer": "ipython3",
   "version": "3.7.1"
  }
 },
 "nbformat": 4,
 "nbformat_minor": 2
}
